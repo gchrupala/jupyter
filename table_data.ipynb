{
 "cells": [
  {
   "cell_type": "code",
   "execution_count": null,
   "metadata": {
    "collapsed": true
   },
   "outputs": [],
   "source": [
    "from bs4 import BeautifulSoup as Soup\n",
    "\n",
    "def table_data(doc):\n",
    "    table = doc.find('table')[0]\n",
    "    data = []\n",
    "    for tr in table.find_all('tr'):\n",
    "        cells = tr.find_all('td')\n",
    "        record = {'country': cells[1], \n",
    "                  'city': cells[2]: \n",
    "                  'latitude': convert(cells[3]),\n",
    "                  'longitude': convert(cells[4]) }\n",
    "        data.append(record)\n",
    "    return data\n",
    "\n",
    "def convert(s):\n",
    "    return float(\".\".join(s.split(\",\")))\n",
    "        \n",
    "        "
   ]
  },
  {
   "cell_type": "code",
   "execution_count": null,
   "metadata": {
    "collapsed": true
   },
   "outputs": [],
   "source": [
    "url = \"http://www.tripmondo.com/magazine/facts-and-statistics/list-of-capitals-and-countries/\"\n",
    "with request.urlopen(url) as response:\n",
    "   page = response.read()\n",
    "doc = Soup(page, \"lxml\")"
   ]
  },
  {
   "cell_type": "code",
   "execution_count": null,
   "metadata": {
    "collapsed": true
   },
   "outputs": [],
   "source": [
    "table_data(doc)"
   ]
  },
  {
   "cell_type": "code",
   "execution_count": null,
   "metadata": {
    "collapsed": true
   },
   "outputs": [],
   "source": []
  }
 ],
 "metadata": {
  "kernelspec": {
   "display_name": "Python 3",
   "language": "python",
   "name": "python3"
  }
 },
 "nbformat": 4,
 "nbformat_minor": 0
}
